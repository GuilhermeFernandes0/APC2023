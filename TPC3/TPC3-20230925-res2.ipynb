{
 "cells": [
  {
   "cell_type": "markdown",
   "id": "1cf1b437",
   "metadata": {},
   "source": [
    "## TPC3: Adivinha o número!?\n",
    "\n",
    "Desenvolve em Python o código necessário para o jogo do Adivinha o número: \n",
    "* O jogo deverá ter dois modos: o computador tenta acertar no número que o jogador pensou ou, o jogador tenta acertar no número que o computador pensou; \n",
    "* No fim, o programa deverá indicar quantas tentativas foram realizadas para chegar ao resultado;\n",
    "* O Jogo: \n",
    "    - o utilizador pensa num número entre 0 e 100;\n",
    "    - o computador tenta adivinhar indicando um número do intervalo;\n",
    "    - o utilizador indica se o número em que pensou é **maior**, **menor**, ou se o computador **acertou**;\n",
    "    - ao terminar, o programa imprime o número de tentativas que o computador teve de fazer até chegar ao número.\n",
    "\n",
    "Que conclusão podes tirar sobre o número de tentativas necessárias para um número entre 0 e 100? E se fosse entre 0 e 1000?"
   ]
  },
  {
   "cell_type": "code",
   "execution_count": null,
   "id": "03104fbe",
   "metadata": {},
   "outputs": [],
   "source": [
    "print(\"Escolha o modo de jogo que pretende jogar.\")\n",
    "modo = int(input(\"Qual modo quer jogar? 0 - advinha o número do computador; 1 - o computador advinha o número que o jogador escolher\"))\n",
    "menor = 0\n",
    "maior = 100\n",
    "tentativas = 0\n",
    "import random\n",
    "if modo == 0:\n",
    "    númeropc = int(random.randrange(0,100))\n",
    "    x= int(input(\"escolhe um número\")) \n",
    "    while x != númeropc:\n",
    "        if númeropc < int(x):\n",
    "            print(\"o número é menor que \" + str(x))\n",
    "        elif númeropc > int(x):\n",
    "            print(\"o número é maior que \" + str(x))\n",
    "        tentativas= tentativas + 1\n",
    "        x= int(input(\"Tenta de novo! Escolhe outro número.\"))\n",
    "    print (\"Parabéns! Acertaste no número em \" + str(tentativas) + \" tentativas\")\n",
    "elif modo == 1:\n",
    "    print (\"Escolha um número entre 0 e 100 para o computador advinhar\")\n",
    "    superior = 100\n",
    "    inferior = 0\n",
    "    resposta = str()\n",
    "    acertou = str(\"acertou\")\n",
    "    while resposta != str(\"acertou\"):\n",
    "        x = int ((superior + inferior)/ 2)\n",
    "        resposta = (input(\"o seu número é \" +str(x) + \" ?\"))\n",
    "        if resposta == \"maior\":\n",
    "            inferior = x\n",
    "        elif resposta == \"menor\":\n",
    "            superior = x\n",
    "        tentativas = tentativas + 1\n",
    "    print (\"O computador advinhou o número em\" + str(tentativas) + \"tentativas\")\n",
    "\n",
    "                \n",
    "    \n",
    "\n",
    "\n",
    "            "
   ]
  }
 ],
 "metadata": {
  "kernelspec": {
   "display_name": "Python 3.9.7 64-bit",
   "language": "python",
   "name": "python3"
  },
  "language_info": {
   "codemirror_mode": {
    "name": "ipython",
    "version": 3
   },
   "file_extension": ".py",
   "mimetype": "text/x-python",
   "name": "python",
   "nbconvert_exporter": "python",
   "pygments_lexer": "ipython3",
   "version": "3.11.5"
  },
  "vscode": {
   "interpreter": {
    "hash": "916dbcbb3f70747c44a77c7bcd40155683ae19c65e1c03b4aa3499c5328201f1"
   }
  }
 },
 "nbformat": 4,
 "nbformat_minor": 5
}
